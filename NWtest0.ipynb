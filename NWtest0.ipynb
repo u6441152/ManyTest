{
  "nbformat": 4,
  "nbformat_minor": 0,
  "metadata": {
    "colab": {
      "provenance": [],
      "authorship_tag": "ABX9TyNFou9F51/oqMjOg9X2Vegd",
      "include_colab_link": true
    },
    "kernelspec": {
      "name": "python3",
      "display_name": "Python 3"
    },
    "language_info": {
      "name": "python"
    }
  },
  "cells": [
    {
      "cell_type": "markdown",
      "metadata": {
        "id": "view-in-github",
        "colab_type": "text"
      },
      "source": [
        "<a href=\"https://colab.research.google.com/github/u6441152/ManyTest/blob/main/NWtest0.ipynb\" target=\"_parent\"><img src=\"https://colab.research.google.com/assets/colab-badge.svg\" alt=\"Open In Colab\"/></a>"
      ]
    },
    {
      "cell_type": "code",
      "execution_count": null,
      "metadata": {
        "id": "YT__3Hs-GYVJ"
      },
      "outputs": [],
      "source": [
        "import torch\n",
        "import pandas as pd\n",
        "import numpy as np\n",
        "from collections import Counter\n",
        "from sklearn.datasets import fetch_20newsgroups"
      ]
    },
    {
      "cell_type": "code",
      "source": [
        "x = torch.IntTensor([1,3,6])\n",
        "y = torch.IntTensor([1,1,1])\n",
        "result = x + y\n",
        "print(result)"
      ],
      "metadata": {
        "colab": {
          "base_uri": "https://localhost:8080/"
        },
        "id": "9paKOQTgGphN",
        "outputId": "82eaa63d-c64f-44a3-bc33-bdc2567b2e78"
      },
      "execution_count": null,
      "outputs": [
        {
          "output_type": "stream",
          "name": "stdout",
          "text": [
            "tensor([2, 4, 7], dtype=torch.int32)\n"
          ]
        }
      ]
    },
    {
      "cell_type": "code",
      "source": [
        "categories = [\"comp.graphics\",\"sci.space\",\"rec.sport.baseball\"]\n",
        "newsgroups_train = fetch_20newsgroups(subset='train', categories=categories)\n",
        "newsgroups_test = fetch_20newsgroups(subset='test', categories=categories)\n",
        "\n",
        "print('total texts in train:',len(newsgroups_train.data))\n",
        "print('total texts in test:',len(newsgroups_test.data))"
      ],
      "metadata": {
        "id": "OwF_YQB7GxvH",
        "outputId": "24c07f94-8cce-4072-f3cd-843548a6efd4",
        "colab": {
          "base_uri": "https://localhost:8080/"
        }
      },
      "execution_count": null,
      "outputs": [
        {
          "output_type": "stream",
          "name": "stdout",
          "text": [
            "total texts in train: 1774\n",
            "total texts in test: 1180\n"
          ]
        }
      ]
    },
    {
      "cell_type": "code",
      "source": [
        "vocab = Counter()\n",
        "\n",
        "for text in newsgroups_train.data:\n",
        "    for word in text.split(' '):\n",
        "        vocab[word.lower()]+=1\n",
        "\n",
        "for text in newsgroups_test.data:\n",
        "    for word in text.split(' '):\n",
        "        vocab[word.lower()]+=1\n",
        "\n",
        "total_words = len(vocab)\n",
        "\n",
        "def get_word_2_index(vocab):\n",
        "    word2index = {}\n",
        "    for i,word in enumerate(vocab):\n",
        "        word2index[word.lower()] = i\n",
        "\n",
        "    return word2index\n",
        "\n",
        "word2index = get_word_2_index(vocab)"
      ],
      "metadata": {
        "id": "8qDOuY9iLg1m"
      },
      "execution_count": null,
      "outputs": []
    },
    {
      "cell_type": "code",
      "source": [
        "def get_batch(df,i,batch_size):\n",
        "    batches = []\n",
        "    results = []\n",
        "    texts = df.data[i*batch_size:i*batch_size+batch_size]\n",
        "    categories = df.target[i*batch_size:i*batch_size+batch_size]\n",
        "    for text in texts:\n",
        "        layer = np.zeros(total_words,dtype=float)\n",
        "        for word in text.split(' '):\n",
        "            layer[word2index[word.lower()]] += 1\n",
        "\n",
        "        batches.append(layer)\n",
        "\n",
        "    for category in categories:\n",
        "        index_y = -1\n",
        "        if category == 0:\n",
        "            index_y = 0\n",
        "        elif category == 1:\n",
        "            index_y = 1\n",
        "        else:\n",
        "            index_y = 2\n",
        "        results.append(index_y)\n",
        "\n",
        "\n",
        "    return np.array(batches),np.array(results)"
      ],
      "metadata": {
        "id": "InF2DQF0L2r9"
      },
      "execution_count": null,
      "outputs": []
    },
    {
      "cell_type": "code",
      "source": [
        "# Parameters\n",
        "learning_rate = 0.01\n",
        "num_epochs = 10\n",
        "batch_size = 150\n",
        "display_step = 1\n",
        "\n",
        "# Network Parameters\n",
        "hidden_size = 100      # 1st layer and 2nd layer number of features\n",
        "input_size = total_words # Words in vocab\n",
        "num_classes = 3         # Categories: graphics, sci.space and baseball"
      ],
      "metadata": {
        "id": "-oTAdh0QL3_D"
      },
      "execution_count": null,
      "outputs": []
    },
    {
      "cell_type": "code",
      "source": [
        "from torch.autograd import Variable\n",
        "import torch.nn as nn\n",
        "import torch.nn.functional as F"
      ],
      "metadata": {
        "id": "B4Iw6sQWL8dJ"
      },
      "execution_count": null,
      "outputs": []
    },
    {
      "cell_type": "code",
      "source": [
        "class OurNet(nn.Module):\n",
        "     def __init__(self, input_size, hidden_size, num_classes):\n",
        "        super(OurNet, self).__init__()\n",
        "        self.layer_1 = nn.Linear(input_size,hidden_size, bias=True)\n",
        "        self.relu = nn.ReLU()\n",
        "        self.layer_2 = nn.Linear(hidden_size, hidden_size, bias=True)\n",
        "        self.output_layer = nn.Linear(hidden_size, num_classes, bias=True)\n",
        "\n",
        "     def forward(self, x):\n",
        "        out = self.layer_1(x)\n",
        "        out = self.relu(out)\n",
        "        out = self.layer_2(out)\n",
        "        out = self.relu(out)\n",
        "        out = self.output_layer(out)\n",
        "        return out"
      ],
      "metadata": {
        "id": "AlZjlSfQL_QC"
      },
      "execution_count": null,
      "outputs": []
    },
    {
      "cell_type": "code",
      "source": [
        "# input [batch_size, n_labels]\n",
        "# output [max index for each item in batch, ... ,batch_size-1]\n",
        "loss = nn.CrossEntropyLoss()\n",
        "input = Variable(torch.randn(2, 5), requires_grad=True)\n",
        "print(\">>> batch of size 2 and 5 possible classes\")\n",
        "print(input)\n",
        "target = Variable(torch.LongTensor(2).random_(5))\n",
        "print(\">>> array of size 'batch_size' with the index of the maxium label for each item\")\n",
        "print(target)\n",
        "output = loss(input, target)\n",
        "output.backward()"
      ],
      "metadata": {
        "colab": {
          "base_uri": "https://localhost:8080/"
        },
        "id": "1nycOG6aMB58",
        "outputId": "fafe0462-48d4-4c7e-a786-b4b31910334d"
      },
      "execution_count": null,
      "outputs": [
        {
          "output_type": "stream",
          "name": "stdout",
          "text": [
            ">>> batch of size 2 and 5 possible classes\n",
            "tensor([[ 1.1820, -0.3732, -1.6237, -0.2503, -1.4504],\n",
            "        [-1.5291, -0.6405, -0.0863, -1.5391,  0.9219]], requires_grad=True)\n",
            ">>> array of size 'batch_size' with the index of the maxium label for each item\n",
            "tensor([4, 3])\n"
          ]
        }
      ]
    },
    {
      "cell_type": "code",
      "source": [
        "net = OurNet(input_size, hidden_size, num_classes)\n",
        "\n",
        "# Loss and Optimizer\n",
        "criterion = nn.CrossEntropyLoss()\n",
        "optimizer = torch.optim.Adam(net.parameters(), lr=learning_rate)\n",
        "\n",
        "# Train the Model\n",
        "for epoch in range(num_epochs):\n",
        "    total_batch = int(len(newsgroups_train.data)/batch_size)\n",
        "    # Loop over all batches\n",
        "    for i in range(total_batch):\n",
        "        batch_x,batch_y = get_batch(newsgroups_train,i,batch_size)\n",
        "        articles = Variable(torch.FloatTensor(batch_x))\n",
        "        labels = Variable(torch.LongTensor(batch_y))\n",
        "        #print(\"articles\",articles)\n",
        "        #print(batch_x, labels)\n",
        "        #print(\"size labels\",labels.size())\n",
        "\n",
        "        # Forward + Backward + Optimize\n",
        "        optimizer.zero_grad()  # zero the gradient buffer\n",
        "        outputs = net(articles)\n",
        "        loss = criterion(outputs, labels)\n",
        "        loss.backward()\n",
        "        optimizer.step()\n",
        "\n",
        "        if (i+1) % 4 == 0:\n",
        "            print ('Epoch [%d/%d], Step [%d/%d], Loss: %.4f'\n",
        "                 %(epoch+1, num_epochs, i+1, len(newsgroups_train.data)//batch_size, loss.item()))\n"
      ],
      "metadata": {
        "colab": {
          "base_uri": "https://localhost:8080/"
        },
        "id": "9IP6EHwDMDJt",
        "outputId": "ee63533e-ff05-4dc1-d9b9-f784a8c57089"
      },
      "execution_count": null,
      "outputs": [
        {
          "output_type": "stream",
          "name": "stdout",
          "text": [
            "Epoch [1/10], Step [4/11], Loss: 0.7839\n",
            "Epoch [1/10], Step [8/11], Loss: 0.2476\n",
            "Epoch [2/10], Step [4/11], Loss: 1.3678\n",
            "Epoch [2/10], Step [8/11], Loss: 0.0355\n",
            "Epoch [3/10], Step [4/11], Loss: 0.0001\n",
            "Epoch [3/10], Step [8/11], Loss: 0.0002\n",
            "Epoch [4/10], Step [4/11], Loss: 0.0001\n",
            "Epoch [4/10], Step [8/11], Loss: 0.0002\n",
            "Epoch [5/10], Step [4/11], Loss: 0.0045\n",
            "Epoch [5/10], Step [8/11], Loss: 0.0003\n",
            "Epoch [6/10], Step [4/11], Loss: 0.1411\n",
            "Epoch [6/10], Step [8/11], Loss: 0.0258\n",
            "Epoch [7/10], Step [4/11], Loss: 0.5816\n",
            "Epoch [7/10], Step [8/11], Loss: 0.0000\n",
            "Epoch [8/10], Step [4/11], Loss: 0.0921\n",
            "Epoch [8/10], Step [8/11], Loss: 0.0001\n",
            "Epoch [9/10], Step [4/11], Loss: 0.0025\n",
            "Epoch [9/10], Step [8/11], Loss: 0.0008\n",
            "Epoch [10/10], Step [4/11], Loss: 0.0010\n",
            "Epoch [10/10], Step [8/11], Loss: 0.0000\n"
          ]
        }
      ]
    },
    {
      "cell_type": "code",
      "source": [
        "# Test the Model\n",
        "correct = 0\n",
        "total = 0\n",
        "total_test_data = len(newsgroups_test.target)\n",
        "batch_x_test,batch_y_test = get_batch(newsgroups_test,0,total_test_data)\n",
        "articles = Variable(torch.FloatTensor(batch_x_test))\n",
        "labels = torch.LongTensor(batch_y_test)\n",
        "outputs = net(articles)\n",
        "_, predicted = torch.max(outputs.data, 1)\n",
        "total += labels.size(0)\n",
        "correct += (predicted == labels).sum()\n",
        "\n",
        "print('Accuracy of the network on the 1180 test articles: %d %%' % (100 * correct / total))"
      ],
      "metadata": {
        "id": "EOx-HpZYOTyp",
        "outputId": "72bdac02-da4f-493b-f8ed-18be3d47f054",
        "colab": {
          "base_uri": "https://localhost:8080/"
        }
      },
      "execution_count": null,
      "outputs": [
        {
          "output_type": "stream",
          "name": "stdout",
          "text": [
            "Accuracy of the network on the 1180 test articles: 93 %\n"
          ]
        }
      ]
    }
  ]
}